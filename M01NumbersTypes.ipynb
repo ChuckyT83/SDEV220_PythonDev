{
 "cells": [
  {
   "cell_type": "markdown",
   "id": "4418cb27-7714-4175-9215-8cca46bf77b7",
   "metadata": {
    "editable": true,
    "slideshow": {
     "slide_type": ""
    },
    "tags": []
   },
   "source": [
    "3.1 - 3.2 - Number of seconds in an hour"
   ]
  },
  {
   "cell_type": "code",
   "execution_count": 11,
   "id": "b795ddd6-8e01-4bc5-8563-02cdb730885e",
   "metadata": {},
   "outputs": [
    {
     "data": {
      "text/plain": [
       "3600"
      ]
     },
     "execution_count": 11,
     "metadata": {},
     "output_type": "execute_result"
    }
   ],
   "source": [
    "60*60"
   ]
  },
  {
   "cell_type": "code",
   "execution_count": 12,
   "id": "647a9cab-0cb7-43ad-bba3-97e5a77cd113",
   "metadata": {},
   "outputs": [
    {
     "data": {
      "text/plain": [
       "3600"
      ]
     },
     "execution_count": 12,
     "metadata": {},
     "output_type": "execute_result"
    }
   ],
   "source": [
    "seconds_per_hour = 60*60\n",
    "seconds_per_hour"
   ]
  },
  {
   "cell_type": "markdown",
   "id": "aa12864e-aef3-49ba-ade5-919c66644910",
   "metadata": {},
   "source": [
    "3.3 - 3.4 - Number of Seconds in a day"
   ]
  },
  {
   "cell_type": "code",
   "execution_count": 13,
   "id": "60598382-2a41-4949-be58-2364767bbcbd",
   "metadata": {},
   "outputs": [
    {
     "data": {
      "text/plain": [
       "86400"
      ]
     },
     "execution_count": 13,
     "metadata": {},
     "output_type": "execute_result"
    }
   ],
   "source": [
    "seconds_per_hour * 24"
   ]
  },
  {
   "cell_type": "code",
   "execution_count": 14,
   "id": "3fb6c6ad-a25d-4464-b33e-65b08d787ba7",
   "metadata": {},
   "outputs": [
    {
     "data": {
      "text/plain": [
       "86400"
      ]
     },
     "execution_count": 14,
     "metadata": {},
     "output_type": "execute_result"
    }
   ],
   "source": [
    "seconds_per_day = seconds_per_hour * 24\n",
    "seconds_per_day"
   ]
  },
  {
   "cell_type": "markdown",
   "id": "9752662e-0a41-45de-8784-6ba3a826baae",
   "metadata": {},
   "source": [
    "3.5 - 3.6 - Division"
   ]
  },
  {
   "cell_type": "code",
   "execution_count": 15,
   "id": "ce6ad46b-3f81-4dfb-8a19-03bd2a2c383b",
   "metadata": {},
   "outputs": [
    {
     "data": {
      "text/plain": [
       "24.0"
      ]
     },
     "execution_count": 15,
     "metadata": {},
     "output_type": "execute_result"
    }
   ],
   "source": [
    "seconds_per_day / seconds_per_hour"
   ]
  },
  {
   "cell_type": "code",
   "execution_count": 16,
   "id": "fa360bb0-4f09-4e58-9770-c42aeb047423",
   "metadata": {},
   "outputs": [
    {
     "data": {
      "text/plain": [
       "24"
      ]
     },
     "execution_count": 16,
     "metadata": {},
     "output_type": "execute_result"
    }
   ],
   "source": [
    "seconds_per_day // seconds_per_hour"
   ]
  },
  {
   "cell_type": "markdown",
   "id": "f88a91b3-2746-4ae7-946c-2610f6733bb8",
   "metadata": {},
   "source": [
    "Yes, the numbers agree besides the tailing zero."
   ]
  }
 ],
 "metadata": {
  "kernelspec": {
   "display_name": "Python 3 (ipykernel)",
   "language": "python",
   "name": "python3"
  },
  "language_info": {
   "codemirror_mode": {
    "name": "ipython",
    "version": 3
   },
   "file_extension": ".py",
   "mimetype": "text/x-python",
   "name": "python",
   "nbconvert_exporter": "python",
   "pygments_lexer": "ipython3",
   "version": "3.11.2"
  }
 },
 "nbformat": 4,
 "nbformat_minor": 5
}
