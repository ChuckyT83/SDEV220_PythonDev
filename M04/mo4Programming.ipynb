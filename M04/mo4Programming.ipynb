{
 "cells": [
  {
   "cell_type": "markdown",
   "id": "bdbdcbc9-661c-4080-8062-dabb33524753",
   "metadata": {},
   "source": [
    "11.1"
   ]
  },
  {
   "cell_type": "code",
   "execution_count": 1,
   "id": "30c2a758-8a95-480f-aa00-9ffe0d6a61b6",
   "metadata": {},
   "outputs": [],
   "source": [
    "import zoo"
   ]
  },
  {
   "cell_type": "code",
   "execution_count": 2,
   "id": "bf44e61b-15b6-4313-894a-5fbc99730abc",
   "metadata": {},
   "outputs": [
    {
     "name": "stdout",
     "output_type": "stream",
     "text": [
      "Open 9-5 daily\n"
     ]
    }
   ],
   "source": [
    "print(zoo.hours())"
   ]
  },
  {
   "cell_type": "markdown",
   "id": "c5017bfc-7b8e-42ee-9b95-775d1184ccec",
   "metadata": {},
   "source": [
    "11.2"
   ]
  },
  {
   "cell_type": "code",
   "execution_count": 3,
   "id": "8c229d73-714a-417a-848f-2ec5cd50b1a8",
   "metadata": {},
   "outputs": [],
   "source": [
    "import zoo as menagerie"
   ]
  },
  {
   "cell_type": "code",
   "execution_count": 4,
   "id": "8b17cec5-c3fb-4ccb-9b0b-34b39dc0555c",
   "metadata": {},
   "outputs": [
    {
     "name": "stdout",
     "output_type": "stream",
     "text": [
      "Open 9-5 daily\n"
     ]
    }
   ],
   "source": [
    "print(menagerie.hours())"
   ]
  },
  {
   "cell_type": "markdown",
   "id": "c1e13b9c-5878-49c0-8d09-123c84fc5bd7",
   "metadata": {},
   "source": [
    "16.8 - I had some trouble here with sqlalchemy as it seems that methods have changed a little with version 2.0."
   ]
  },
  {
   "cell_type": "code",
   "execution_count": 5,
   "id": "3ee42564-0e1d-411b-a2c7-8f1d15ea0808",
   "metadata": {
    "editable": true,
    "slideshow": {
     "slide_type": ""
    },
    "tags": []
   },
   "outputs": [],
   "source": [
    "import sqlite3, csv\n",
    "import sqlalchemy as sa"
   ]
  },
  {
   "cell_type": "code",
   "execution_count": 6,
   "id": "29b02fdb-c749-47fb-8a78-254d57a5d98a",
   "metadata": {},
   "outputs": [],
   "source": [
    "conn = sqlite3.connect('book.db')\n",
    "curs = conn.cursor()"
   ]
  },
  {
   "cell_type": "code",
   "execution_count": 7,
   "id": "0e0a1b12-8111-4dd4-88f6-5129a442cc46",
   "metadata": {},
   "outputs": [
    {
     "data": {
      "text/plain": [
       "<sqlite3.Cursor at 0x19bc5ce9440>"
      ]
     },
     "execution_count": 7,
     "metadata": {},
     "output_type": "execute_result"
    }
   ],
   "source": [
    "curs.execute('''CREATE TABLE book\n",
    "    (title TEXT PRIMARY KEY,\n",
    "     author TEXT,\n",
    "     year INT)''')"
   ]
  },
  {
   "cell_type": "code",
   "execution_count": 8,
   "id": "5f762499-b4b4-4597-80f9-051d033ef40b",
   "metadata": {
    "editable": true,
    "slideshow": {
     "slide_type": ""
    },
    "tags": []
   },
   "outputs": [],
   "source": [
    "file = open(\"book2.csv\")\n",
    "contents = csv.reader(file)\n",
    "insert = 'INSERT INTO book (title, author, year) VALUES(?, ?, ?)'\n",
    "curs.executemany(insert, contents)\n",
    "file.close()"
   ]
  },
  {
   "cell_type": "code",
   "execution_count": 9,
   "id": "b83425e7-29c9-4f53-89ee-cc1bc0bd74cb",
   "metadata": {},
   "outputs": [],
   "source": [
    "conn.commit()\n",
    "conn.close()"
   ]
  },
  {
   "cell_type": "markdown",
   "id": "262af0be-95c2-44c7-9c06-d6b62aa431c2",
   "metadata": {},
   "source": [
    "With the new version of sqlalchemy, you must now explicitly connect to the database before you can use execute()."
   ]
  },
  {
   "cell_type": "code",
   "execution_count": 10,
   "id": "16004c08-b38e-4236-b51b-7d50caca3180",
   "metadata": {},
   "outputs": [
    {
     "name": "stdout",
     "output_type": "stream",
     "text": [
      "['Perdido Street Station', 'Small Gods', 'The Spellman Files', 'The Weirdstone of Brisingamen', 'Thud!']\n"
     ]
    }
   ],
   "source": [
    "books = sa.create_engine(\"sqlite:///book.db\")\n",
    "titleList = []\n",
    "with books.connect() as conn:\n",
    "    titles = conn.execute(sa.text('select title from book'))\n",
    "    for row in titles:\n",
    "        titleList.append(str(row.title))\n",
    "        titleList.sort()\n",
    "    print(titleList)\n",
    "\n"
   ]
  }
 ],
 "metadata": {
  "kernelspec": {
   "display_name": "Python 3 (ipykernel)",
   "language": "python",
   "name": "python3"
  },
  "language_info": {
   "codemirror_mode": {
    "name": "ipython",
    "version": 3
   },
   "file_extension": ".py",
   "mimetype": "text/x-python",
   "name": "python",
   "nbconvert_exporter": "python",
   "pygments_lexer": "ipython3",
   "version": "3.11.2"
  }
 },
 "nbformat": 4,
 "nbformat_minor": 5
}
