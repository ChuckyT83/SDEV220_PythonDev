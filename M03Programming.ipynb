{
 "cells": [
  {
   "cell_type": "markdown",
   "id": "a04837f0-cd57-4d6a-aa6d-27bfcc28ae6b",
   "metadata": {},
   "source": [
    "Charles Tranter\n",
    "M03 Programming Assignment"
   ]
  },
  {
   "cell_type": "markdown",
   "id": "9fcfdb57-72b2-4667-b969-303dd64e6671",
   "metadata": {},
   "source": [
    "7.4"
   ]
  },
  {
   "cell_type": "code",
<<<<<<< HEAD
   "execution_count": 38,
=======
   "execution_count": 29,
>>>>>>> ae28cfe0c84fc96a21adbca85d305d4fa1b96f8b
   "id": "9c927fee-d825-4e0d-a2eb-f39c5ece5259",
   "metadata": {},
   "outputs": [],
   "source": [
    "things = [\"mozzerella\", \"cinderella\", \"salmonella\"]"
   ]
  },
  {
   "cell_type": "markdown",
   "id": "1b9ac3ab-614a-4e90-9f40-40d85332f822",
   "metadata": {},
   "source": [
    "7.5"
   ]
  },
  {
   "cell_type": "code",
<<<<<<< HEAD
   "execution_count": 39,
=======
   "execution_count": 30,
>>>>>>> ae28cfe0c84fc96a21adbca85d305d4fa1b96f8b
   "id": "07d36b83-0db3-4c75-824f-5ebac6596720",
   "metadata": {},
   "outputs": [
    {
     "name": "stdout",
     "output_type": "stream",
     "text": [
      "['mozzerella', 'Cinderella', 'salmonella']\n"
     ]
    }
   ],
   "source": [
    "things[1] = \"Cinderella\"\n",
    "print(things)"
   ]
  },
  {
   "cell_type": "markdown",
   "id": "4fa345eb-fb42-437b-b0f9-45827ff057fb",
   "metadata": {},
   "source": [
    "Yes, the element changed."
   ]
  },
  {
   "cell_type": "markdown",
   "id": "90d8fd50-670a-4cc3-93b6-c2d32577b215",
   "metadata": {},
   "source": [
    "7.6"
   ]
  },
  {
   "cell_type": "code",
<<<<<<< HEAD
   "execution_count": 40,
=======
   "execution_count": 31,
>>>>>>> ae28cfe0c84fc96a21adbca85d305d4fa1b96f8b
   "id": "9bda06f1-e083-4761-b7cc-c6d7526038f6",
   "metadata": {},
   "outputs": [
    {
     "name": "stdout",
     "output_type": "stream",
     "text": [
      "['MOZZERELLA', 'Cinderella', 'salmonella']\n"
     ]
    }
   ],
   "source": [
    "things[0] = \"MOZZERELLA\"\n",
    "print(things)"
   ]
  },
  {
   "cell_type": "markdown",
   "id": "6c15113a-7191-4a00-a89c-8c4390f7411c",
   "metadata": {},
   "source": [
    "7.7"
   ]
  },
  {
   "cell_type": "code",
<<<<<<< HEAD
   "execution_count": 41,
=======
   "execution_count": 32,
>>>>>>> ae28cfe0c84fc96a21adbca85d305d4fa1b96f8b
   "id": "ea1cc5dc-5670-4ed7-8f2d-77e918d9cbf8",
   "metadata": {},
   "outputs": [
    {
     "name": "stdout",
     "output_type": "stream",
     "text": [
      "['MOZZERELLA', 'Cinderella']\n"
     ]
    }
   ],
   "source": [
    "things.pop(2)\n",
    "print(things)"
   ]
  },
  {
   "cell_type": "markdown",
   "id": "2084f080-cc3f-4120-9db3-4c0792163fb0",
   "metadata": {},
   "source": [
    "9.1"
   ]
  },
  {
   "cell_type": "code",
<<<<<<< HEAD
   "execution_count": 42,
=======
   "execution_count": 33,
>>>>>>> ae28cfe0c84fc96a21adbca85d305d4fa1b96f8b
   "id": "558d9879-d23a-4bbf-94e5-f4a532869ae1",
   "metadata": {},
   "outputs": [
    {
     "name": "stdout",
     "output_type": "stream",
     "text": [
      "['Harry', 'Ron', 'Herminoe']\n"
     ]
    }
   ],
   "source": [
    "def good():\n",
    "    return ['Harry','Ron','Herminoe']\n",
    "\n",
    "print(good())\n",
    "    "
   ]
  },
  {
   "cell_type": "markdown",
   "id": "dafa56bf-c2b9-42c4-a62c-6d6ab87c4719",
   "metadata": {},
   "source": [
    "9.2"
   ]
  },
  {
   "cell_type": "code",
<<<<<<< HEAD
   "execution_count": 43,
=======
   "execution_count": 37,
>>>>>>> ae28cfe0c84fc96a21adbca85d305d4fa1b96f8b
   "id": "74dc2248-40dd-420f-8c2b-76422c876a55",
   "metadata": {},
   "outputs": [
    {
     "name": "stdout",
     "output_type": "stream",
     "text": [
      "5\n"
     ]
    }
   ],
   "source": [
    "def get_odds():\n",
    "    for i in range(10):\n",
    "        if i % 2 != 0:\n",
    "            yield i\n",
    "            \n",
    "x = 1\n",
    "for i in get_odds():\n",
    "    if x == 3:\n",
    "        print(i)\n",
    "    x = x + 1\n",
    "\n"
   ]
  },
  {
   "cell_type": "code",
   "execution_count": null,
   "id": "0ca149ba-14ae-43f4-9e4e-5562129bfe1d",
   "metadata": {},
   "outputs": [],
   "source": []
  }
 ],
 "metadata": {
  "kernelspec": {
   "display_name": "Python 3 (ipykernel)",
   "language": "python",
   "name": "python3"
  },
  "language_info": {
   "codemirror_mode": {
    "name": "ipython",
    "version": 3
   },
   "file_extension": ".py",
   "mimetype": "text/x-python",
   "name": "python",
   "nbconvert_exporter": "python",
   "pygments_lexer": "ipython3",
   "version": "3.11.2"
  }
 },
 "nbformat": 4,
 "nbformat_minor": 5
}
