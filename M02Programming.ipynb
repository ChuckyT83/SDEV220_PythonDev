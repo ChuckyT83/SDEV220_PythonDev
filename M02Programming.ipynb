{
 "cells": [
  {
   "cell_type": "markdown",
   "id": "ab689d1d-d335-4f83-832d-822917f34b0a",
   "metadata": {},
   "source": [
    "4.1"
   ]
  },
  {
   "cell_type": "code",
   "execution_count": 1,
   "id": "b7608340-3746-48b1-8640-c2c727a0076b",
   "metadata": {
    "editable": true,
    "slideshow": {
     "slide_type": ""
    },
    "tags": []
   },
   "outputs": [
    {
     "name": "stdout",
     "output_type": "stream",
     "text": [
      "Too high.\n"
     ]
    }
   ],
   "source": [
    "secret = 4\n",
    "guess = 7\n",
    "\n",
    "if guess == secret:\n",
    "    print(\"Just right!\")\n",
    "elif guess < secret:\n",
    "    print(\"Too low.\")\n",
    "else:\n",
    "    print(\"Too high.\")"
   ]
  },
  {
   "cell_type": "markdown",
   "id": "c09fbce8-da93-4790-88ea-dbc21b272719",
   "metadata": {},
   "source": [
    "4.2"
   ]
  },
  {
   "cell_type": "code",
   "execution_count": 2,
   "id": "bb4c5eb9-dd9f-472c-9771-90da8d594030",
   "metadata": {},
   "outputs": [
    {
     "name": "stdout",
     "output_type": "stream",
     "text": [
      "Cherry\n"
     ]
    }
   ],
   "source": [
    "small = True\n",
    "green = False\n",
    "\n",
    "if small == True and green == False:\n",
    "    print(\"Cherry\")\n",
    "elif small == False and green == False:\n",
    "    print(\"Pumpkin\")\n",
    "elif small == False and green == True:\n",
    "    print(\"Watermelon\")\n",
    "else:\n",
    "    print(\"Pea\")\n",
    "    "
   ]
  },
  {
   "cell_type": "markdown",
   "id": "453ab791-6996-489c-b893-04299f76935e",
   "metadata": {},
   "source": [
    "6.1"
   ]
  },
  {
   "cell_type": "code",
   "execution_count": 3,
   "id": "686cc8d0-aa28-470d-af3b-ee65e02f772b",
   "metadata": {},
   "outputs": [
    {
     "name": "stdout",
     "output_type": "stream",
     "text": [
      "3\n",
      "2\n",
      "1\n",
      "0\n"
     ]
    }
   ],
   "source": [
    "list = [3, 2, 1, 0]\n",
    "\n",
    "for i in list:\n",
    "    print(i)"
   ]
  },
  {
   "cell_type": "markdown",
   "id": "1b956112-ebe7-4001-b9a0-afc38467987c",
   "metadata": {},
   "source": [
    "6.2"
   ]
  },
  {
   "cell_type": "code",
   "execution_count": 4,
   "id": "24e535ab-6041-4036-a68d-b71fd4778660",
   "metadata": {},
   "outputs": [
    {
     "name": "stdout",
     "output_type": "stream",
     "text": [
      "Too low\n",
      "Too low\n",
      "Too low\n",
      "Too low\n",
      "Too low\n",
      "Too low\n",
      "Found it!\n"
     ]
    }
   ],
   "source": [
    "guess_me = 7\n",
    "number = 1\n",
    "\n",
    "while number <= guess_me:\n",
    "    if number < guess_me:\n",
    "        print(\"Too low\")\n",
    "    if number > guess_me:\n",
    "        print(\"Oops\")\n",
    "        break\n",
    "    if number == guess_me:\n",
    "        print(\"Found it!\")\n",
    "        break\n",
    "    number = number + 1\n",
    "        "
   ]
  },
  {
   "cell_type": "markdown",
   "id": "4d0a0ab0-2510-44cf-9a65-4e08fa114067",
   "metadata": {},
   "source": [
    "6.3"
   ]
  },
  {
   "cell_type": "code",
   "execution_count": 5,
   "id": "d9e8ef54-9fa7-4cea-8528-063493047c15",
   "metadata": {},
   "outputs": [
    {
     "name": "stdout",
     "output_type": "stream",
     "text": [
      "Too low\n",
      "Too low\n",
      "Too low\n",
      "Too low\n",
      "Too low\n",
      "Found it!\n"
     ]
    }
   ],
   "source": [
    "guess_me = 5\n",
    "\n",
    "for number in range(10):\n",
    "    if number < guess_me:\n",
    "        print(\"Too low\")\n",
    "    if number > guess_me:\n",
    "        print(\"Oops\")\n",
    "        break\n",
    "    if number == guess_me:\n",
    "        print(\"Found it!\")\n",
    "        break"
   ]
  }
 ],
 "metadata": {
  "kernelspec": {
   "display_name": "Python 3 (ipykernel)",
   "language": "python",
   "name": "python3"
  },
  "language_info": {
   "codemirror_mode": {
    "name": "ipython",
    "version": 3
   },
   "file_extension": ".py",
   "mimetype": "text/x-python",
   "name": "python",
   "nbconvert_exporter": "python",
   "pygments_lexer": "ipython3",
   "version": "3.11.2"
  }
 },
 "nbformat": 4,
 "nbformat_minor": 5
}
