{
 "cells": [
  {
   "cell_type": "code",
   "execution_count": 3,
   "id": "d2a2c607-75b0-4229-9076-1ba442c5bb3a",
   "metadata": {},
   "outputs": [],
   "source": [
    "# Charles Tranter\n",
    "# SDEV220\n",
    "# 11/5/2023\n",
    "# M02Lab.py\n",
    "#\n",
    "# This application will test if a student's GPA is good enough to make the Dean's List or Honor Roll. The user can quit by inputing \"ZZZ\" as the students\n",
    "# last name."
   ]
  },
  {
   "cell_type": "markdown",
   "id": "04f95fa9-4432-49bc-93c4-a063a035e08e",
   "metadata": {},
   "source": [
    "Starts loop"
   ]
  },
  {
   "cell_type": "code",
   "execution_count": 9,
   "id": "751d84dc-116d-44df-9e8d-32911b9e9415",
   "metadata": {},
   "outputs": [
    {
     "ename": "SyntaxError",
     "evalue": "incomplete input (1870715780.py, line 1)",
     "output_type": "error",
     "traceback": [
      "\u001b[1;36m  Cell \u001b[1;32mIn[9], line 1\u001b[1;36m\u001b[0m\n\u001b[1;33m    while True:\u001b[0m\n\u001b[1;37m               ^\u001b[0m\n\u001b[1;31mSyntaxError\u001b[0m\u001b[1;31m:\u001b[0m incomplete input\n"
     ]
    }
   ],
   "source": [
    "while True:"
   ]
  },
  {
   "cell_type": "markdown",
   "id": "a1e71299-544a-41b2-ac06-fe6ff13ead19",
   "metadata": {},
   "source": [
    "Input for student last name."
   ]
  },
  {
   "cell_type": "code",
   "execution_count": 10,
   "id": "1761521a-d6b1-4d8d-b090-5dae827a41cf",
   "metadata": {},
   "outputs": [],
   "source": [
    "    lastName = input(\"Student Last Name (Enter ZZZ to quit): \")"
   ]
  },
  {
   "cell_type": "markdown",
   "id": "5ac85045-0eea-48b5-9596-743430f0669b",
   "metadata": {},
   "source": [
    "Checks if last name is ZZZ and breaks loop if so."
   ]
  },
  {
   "cell_type": "code",
   "execution_count": 11,
   "id": "9afb9671-7739-45f9-ba4b-379ae524bdbb",
   "metadata": {},
   "outputs": [
    {
     "ename": "SyntaxError",
     "evalue": "'break' outside loop (2946969980.py, line 3)",
     "output_type": "error",
     "traceback": [
      "\u001b[1;36m  Cell \u001b[1;32mIn[11], line 3\u001b[1;36m\u001b[0m\n\u001b[1;33m    break\u001b[0m\n\u001b[1;37m    ^\u001b[0m\n\u001b[1;31mSyntaxError\u001b[0m\u001b[1;31m:\u001b[0m 'break' outside loop\n"
     ]
    }
   ],
   "source": [
    "    if lastName == \"ZZZ\":\n",
    "        print(\"Quitting. Thanks!\")\n",
    "        break"
   ]
  },
  {
   "cell_type": "markdown",
   "id": "b8d65b9d-27af-44df-9302-431c3fc31544",
   "metadata": {},
   "source": [
    "Entry for student first name and GPA."
   ]
  },
  {
   "cell_type": "code",
   "execution_count": 5,
   "id": "f3fb8a8f-3223-44b1-a615-087f91968354",
   "metadata": {},
   "outputs": [],
   "source": [
    "    firstName = input(\"Student First Name: \")\n",
    "    studentGPA = float(input(\"Student GPA: \"))"
   ]
  },
  {
   "cell_type": "markdown",
   "id": "051f98e7-fda5-4b08-a4a8-fe8d4d4f0230",
   "metadata": {},
   "source": [
    "Checks if student GPA is equal to or greater that 3.5 and prints that student has made Dean's List if so."
   ]
  },
  {
   "cell_type": "code",
   "execution_count": 6,
   "id": "05011fb5-4da4-4626-9705-0f88749ef89b",
   "metadata": {},
   "outputs": [
    {
     "name": "stdout",
     "output_type": "stream",
     "text": [
      "Test, chuck has made the Dean's List!\n",
      "\n"
     ]
    }
   ],
   "source": [
    "    if studentGPA >= 3.5:\n",
    "        print(lastName + \", \" + firstName + \" has made the Dean's List!\\n\")"
   ]
  },
  {
   "cell_type": "markdown",
   "id": "be17aeec-4363-4182-9f81-02689496d984",
   "metadata": {},
   "source": [
    "Checks if student GPA is between 3.25 and 3.5 and prints that the student has made Honor Roll if so."
   ]
  },
  {
   "cell_type": "code",
   "execution_count": 7,
   "id": "92ba8372-7e06-45ee-b727-183e2d199c95",
   "metadata": {},
   "outputs": [
    {
     "ename": "SyntaxError",
     "evalue": "invalid syntax (2474275675.py, line 1)",
     "output_type": "error",
     "traceback": [
      "\u001b[1;36m  Cell \u001b[1;32mIn[7], line 1\u001b[1;36m\u001b[0m\n\u001b[1;33m    elif studentGPA >= 3.25 and studentGPA < 3.5:\u001b[0m\n\u001b[1;37m    ^\u001b[0m\n\u001b[1;31mSyntaxError\u001b[0m\u001b[1;31m:\u001b[0m invalid syntax\n"
     ]
    }
   ],
   "source": [
    "    elif studentGPA >= 3.25 and studentGPA < 3.5:\n",
    "        print(lastName + \", \" + firstName + \" has made Honor Roll!\\n\")"
   ]
  },
  {
   "cell_type": "code",
   "execution_count": 8,
   "id": "5a04b158",
   "metadata": {},
   "outputs": [],
   "source": [
    "    lastName = input(\"Student Last Name (Enter ZZZ to quit): \")\n"
   ]
  }
 ],
 "metadata": {
  "kernelspec": {
   "display_name": "Python 3 (ipykernel)",
   "language": "python",
   "name": "python3"
  },
  "language_info": {
   "codemirror_mode": {
    "name": "ipython",
    "version": 3
   },
   "file_extension": ".py",
   "mimetype": "text/x-python",
   "name": "python",
   "nbconvert_exporter": "python",
   "pygments_lexer": "ipython3",
   "version": "3.11.2"
  }
 },
 "nbformat": 4,
 "nbformat_minor": 5
}
