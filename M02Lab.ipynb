{
 "cells": [
  {
   "cell_type": "code",
   "execution_count": 1,
   "id": "92ba8372-7e06-45ee-b727-183e2d199c95",
   "metadata": {},
   "outputs": [
    {
     "name": "stdin",
     "output_type": "stream",
     "text": [
      "Student Last Name (Enter ZZZ to quit):  T\n",
      "Student First Name:  Chuck\n",
      "Student GPA:  3.5\n"
     ]
    },
    {
     "name": "stdout",
     "output_type": "stream",
     "text": [
      "T, Chuck has made the Dean's List!\n",
      "\n"
     ]
    },
    {
     "name": "stdin",
     "output_type": "stream",
     "text": [
      "Student Last Name (Enter ZZZ to quit):  Doe\n",
      "Student First Name:  Jane\n",
      "Student GPA:  3.26\n"
     ]
    },
    {
     "name": "stdout",
     "output_type": "stream",
     "text": [
      "Doe, Jane has made Honor Roll!\n",
      "\n"
     ]
    },
    {
     "name": "stdin",
     "output_type": "stream",
     "text": [
      "Student Last Name (Enter ZZZ to quit):  Doe\n",
      "Student First Name:  John\n",
      "Student GPA:  3\n",
      "Student Last Name (Enter ZZZ to quit):  Test\n",
      "Student First Name:  Johnny\n",
      "Student GPA:  4\n"
     ]
    },
    {
     "name": "stdout",
     "output_type": "stream",
     "text": [
      "Test, Johnny has made the Dean's List!\n",
      "\n"
     ]
    },
    {
     "name": "stdin",
     "output_type": "stream",
     "text": [
      "Student Last Name (Enter ZZZ to quit):  Me\n",
      "Student First Name:  You\n",
      "Student GPA:  3.25\n"
     ]
    },
    {
     "name": "stdout",
     "output_type": "stream",
     "text": [
      "Me, You has made Honor Roll!\n",
      "\n"
     ]
    },
    {
     "name": "stdin",
     "output_type": "stream",
     "text": [
      "Student Last Name (Enter ZZZ to quit):  ZZZ\n"
     ]
    },
    {
     "name": "stdout",
     "output_type": "stream",
     "text": [
      "Quitting. Thanks!\n"
     ]
    }
   ],
   "source": [
    "# Charles Tranter\n",
    "# SDEV220\n",
    "# 11/5/2023\n",
    "# M02Lab.py\n",
    "#\n",
    "# This application will test if a student's GPA is good enough to make the Dean's List or Honor Roll. The user can quit by inputing \"ZZZ\" as the students\n",
    "# last name.\n",
    "\n",
    "while True: #creates loop\n",
    "    lastName = input(\"Student Last Name (Enter ZZZ to quit): \") #input last name\n",
    "    \n",
    "    if lastName == \"ZZZ\": #checks if last name is ZZZ and breaks loop if so\n",
    "        print(\"Quitting. Thanks!\")\n",
    "        break\n",
    "\n",
    "    firstName = input(\"Student First Name: \") #input first name\n",
    "    studentGPA = float(input(\"Student GPA: \")) #input GPA\n",
    "\n",
    "    if studentGPA >= 3.5: #checks student gpa for Dean's List and prints if made\n",
    "        print(lastName + \", \" + firstName + \" has made the Dean's List!\\n\")\n",
    "    elif studentGPA >= 3.25 and studentGPA < 3.5: #checks student gpa for Honor roll and prints if made\n",
    "        print(lastName + \", \" + firstName + \" has made Honor Roll!\\n\")"
   ]
  },
  {
   "cell_type": "code",
   "execution_count": null,
   "id": "1bd7bc6a-9b40-480a-acd6-40eae388f43d",
   "metadata": {},
   "outputs": [],
   "source": []
  }
 ],
 "metadata": {
  "kernelspec": {
   "display_name": "Python 3 (ipykernel)",
   "language": "python",
   "name": "python3"
  },
  "language_info": {
   "codemirror_mode": {
    "name": "ipython",
    "version": 3
   },
   "file_extension": ".py",
   "mimetype": "text/x-python",
   "name": "python",
   "nbconvert_exporter": "python",
   "pygments_lexer": "ipython3",
   "version": "3.11.2"
  }
 },
 "nbformat": 4,
 "nbformat_minor": 5
}
