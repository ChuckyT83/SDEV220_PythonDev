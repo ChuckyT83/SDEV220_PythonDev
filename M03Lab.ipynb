{
 "cells": [
  {
   "cell_type": "markdown",
   "id": "80418832-9ee1-4a27-9e58-c1642fb16de5",
   "metadata": {},
   "source": [
    "Charles Tranter\n",
    "M03 Lab"
   ]
  },
  {
   "cell_type": "code",
   "execution_count": 1,
   "id": "d64c993f-ef5a-4306-b79b-c512bec96121",
   "metadata": {},
   "outputs": [
    {
     "name": "stdin",
     "output_type": "stream",
     "text": [
      "Please input the year of your car:  2022\n",
      "Please input the make of your car:  Toyota\n",
      "Please input the model of your car:  Corolla\n",
      "Please input the number of doors of your car:  4\n",
      "Please input the type of roof on your car:  sun roof\n"
     ]
    },
    {
     "name": "stdout",
     "output_type": "stream",
     "text": [
      "Vehicle type: car\n",
      "Year: 2022\n",
      "Make: Toyota\n",
      "Model: Corolla\n",
      "Number of doors: 4\n",
      "Type of roof: sun roof\n",
      "\n"
     ]
    }
   ],
   "source": [
    "class Vehicle:\n",
    "    def __init__(self, type):\n",
    "        self.type = type\n",
    "\n",
    "    def __str__(self):\n",
    "        return \"Vehicle type: \" + self.type + \"\\n\"\n",
    "\n",
    "        \n",
    "class Automobile(Vehicle):\n",
    "    def __init__(self, type, year, make, model, doors, roof):\n",
    "        super().__init__(type)\n",
    "        self.year = year\n",
    "        self.make = make\n",
    "        self.model = model\n",
    "        self.doors = doors\n",
    "        self.roof = roof\n",
    "\n",
    "    def __str__(self):\n",
    "        return \"Vehicle type: \" + type + \"\\n\" + \\\n",
    "                \"Year: \" + self.year + \"\\n\" + \\\n",
    "                \"Make: \" + self.make + \"\\n\" + \\\n",
    "                \"Model: \" + self.model + \"\\n\" \\\n",
    "                \"Number of doors: \" + self.doors + \"\\n\" \\\n",
    "                \"Type of roof: \" + self.roof + \"\\n\"\n",
    "\n",
    "\n",
    "\n",
    "type = \"car\"\n",
    "year = input(\"Please input the year of your \" + type + \": \")\n",
    "make = input(\"Please input the make of your \" + type + \": \")\n",
    "model = input(\"Please input the model of your \" + type + \": \")\n",
    "doors = input(\"Please input the number of doors of your \" + type + \": \")\n",
    "roof = input(\"Please input the type of roof on your \" + type + \": \")\n",
    "\n",
    "car = Automobile(type, year, make, model, doors, roof)\n",
    "\n",
    "print(car)"
   ]
  },
  {
   "cell_type": "code",
   "execution_count": null,
   "id": "65573065-aecb-4c1e-8610-7c6301e84135",
   "metadata": {},
   "outputs": [],
   "source": []
  }
 ],
 "metadata": {
  "kernelspec": {
   "display_name": "Python 3 (ipykernel)",
   "language": "python",
   "name": "python3"
  },
  "language_info": {
   "codemirror_mode": {
    "name": "ipython",
    "version": 3
   },
   "file_extension": ".py",
   "mimetype": "text/x-python",
   "name": "python",
   "nbconvert_exporter": "python",
   "pygments_lexer": "ipython3",
   "version": "3.11.2"
  }
 },
 "nbformat": 4,
 "nbformat_minor": 5
}
