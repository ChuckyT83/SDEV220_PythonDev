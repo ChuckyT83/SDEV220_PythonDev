{
 "cells": [
  {
   "cell_type": "markdown",
   "id": "16ac6173-8a11-4e1f-9568-3b1134724eaf",
   "metadata": {},
   "source": [
    "Charles Tranter\n",
    "M03 Tutorial - Function vs OOP Programming"
   ]
  },
  {
   "cell_type": "markdown",
   "id": "284a5571-9b66-47b9-865f-075edd5b6dfe",
   "metadata": {},
   "source": [
    "Sort an array"
   ]
  },
  {
   "cell_type": "code",
   "execution_count": 23,
   "id": "0c46c1da-61f5-4e27-9abb-a16f3e332484",
   "metadata": {},
   "outputs": [],
   "source": [
    "class Solution:\n",
    "    def sort012(self,arr,n):\n",
    "        arr.sort()\n",
    "        return arr"
   ]
  },
  {
   "cell_type": "code",
   "execution_count": 24,
   "id": "df6701b0-f6a9-4aa9-8891-4793508b26a8",
   "metadata": {},
   "outputs": [
    {
     "name": "stdout",
     "output_type": "stream",
     "text": [
      "[0, 0, 1, 2, 2]\n"
     ]
    }
   ],
   "source": [
    "print(Solution.sort012(0,[0,2,1,0,2], 5))"
   ]
  },
  {
   "cell_type": "markdown",
   "id": "8ba180f2-793a-4edb-b807-8bc166b57331",
   "metadata": {},
   "source": [
    "Binary Search"
   ]
  },
  {
   "cell_type": "code",
   "execution_count": 31,
   "id": "a03f3b72-767b-4b15-bf2a-65f0acbf6831",
   "metadata": {},
   "outputs": [],
   "source": [
    "class Solution:\t\n",
    "    def binarysearch(self, arr, n, k):\n",
    "        count = 0\n",
    "        while count <= n:\n",
    "            if arr[count] == k:\n",
    "                  return count\n",
    "            elif count == n - 1:\n",
    "                  return -1\n",
    "            else:\n",
    "                  count = count + 1"
   ]
  },
  {
   "cell_type": "code",
   "execution_count": 33,
   "id": "72ec68b7-0aa5-43fd-aa6a-3855898cfb0b",
   "metadata": {},
   "outputs": [
    {
     "name": "stdout",
     "output_type": "stream",
     "text": [
      "4\n",
      "-1\n"
     ]
    }
   ],
   "source": [
    "\n",
    "print(Solution.binarysearch(0,[2,4,6,8,10,12], 6, 10))\n",
    "print(Solution.binarysearch(0,[2,4,6,8,10,12], 6, 7))"
   ]
  },
  {
   "cell_type": "code",
   "execution_count": null,
   "id": "80d1ed17-0270-46b0-be91-05496d77110f",
   "metadata": {},
   "outputs": [],
   "source": []
  }
 ],
 "metadata": {
  "kernelspec": {
   "display_name": "Python 3 (ipykernel)",
   "language": "python",
   "name": "python3"
  },
  "language_info": {
   "codemirror_mode": {
    "name": "ipython",
    "version": 3
   },
   "file_extension": ".py",
   "mimetype": "text/x-python",
   "name": "python",
   "nbconvert_exporter": "python",
   "pygments_lexer": "ipython3",
   "version": "3.11.2"
  }
 },
 "nbformat": 4,
 "nbformat_minor": 5
}
